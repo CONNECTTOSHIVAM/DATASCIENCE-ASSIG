{
 "cells": [
  {
   "cell_type": "code",
   "execution_count": 22,
   "id": "323b3a01-6049-437e-9183-d6077f83dc61",
   "metadata": {},
   "outputs": [],
   "source": [
    "#question one [ swap program  ]"
   ]
  },
  {
   "cell_type": "code",
   "execution_count": 1,
   "id": "21a1212f-3252-461a-9998-928f9c2093e5",
   "metadata": {},
   "outputs": [],
   "source": [
    "a, b= 5,7"
   ]
  },
  {
   "cell_type": "code",
   "execution_count": 2,
   "id": "ecf0bc7b-6c08-45e1-8aec-1e4e897e2e0f",
   "metadata": {},
   "outputs": [],
   "source": [
    "a,b=b,a"
   ]
  },
  {
   "cell_type": "code",
   "execution_count": 3,
   "id": "2dfa8a8f-e620-4c8f-a3d5-069053fa4a36",
   "metadata": {},
   "outputs": [
    {
     "data": {
      "text/plain": [
       "7"
      ]
     },
     "execution_count": 3,
     "metadata": {},
     "output_type": "execute_result"
    }
   ],
   "source": [
    "a"
   ]
  },
  {
   "cell_type": "code",
   "execution_count": 4,
   "id": "8539f1f6-7e51-4141-8e3b-c289990149f4",
   "metadata": {},
   "outputs": [
    {
     "data": {
      "text/plain": [
       "5"
      ]
     },
     "execution_count": 4,
     "metadata": {},
     "output_type": "execute_result"
    }
   ],
   "source": [
    "b"
   ]
  },
  {
   "cell_type": "code",
   "execution_count": 5,
   "id": "d01fa3c3-2541-4797-9cfe-b6024c4cb512",
   "metadata": {},
   "outputs": [],
   "source": [
    "#question two [ area of reftraingle ]"
   ]
  },
  {
   "cell_type": "code",
   "execution_count": 7,
   "id": "ceef1546-39a7-4f9e-9357-42ccfcb54ec6",
   "metadata": {},
   "outputs": [
    {
     "name": "stdin",
     "output_type": "stream",
     "text": [
      "Enter the lenght of reftraingle:-  78\n"
     ]
    }
   ],
   "source": [
    "lenght= float(input(\"Enter the lenght of reftraingle:- \"))"
   ]
  },
  {
   "cell_type": "code",
   "execution_count": 9,
   "id": "dd207dcc-136a-4c31-9906-03e20003e720",
   "metadata": {},
   "outputs": [
    {
     "name": "stdin",
     "output_type": "stream",
     "text": [
      "Enter the width of reftraingle:-  56\n"
     ]
    }
   ],
   "source": [
    "width= float(input(\"Enter the width of reftraingle:- \"))"
   ]
  },
  {
   "cell_type": "code",
   "execution_count": 10,
   "id": "af9be895-a20d-4ac0-8492-83890af82e3b",
   "metadata": {},
   "outputs": [],
   "source": [
    "area= lenght*width"
   ]
  },
  {
   "cell_type": "code",
   "execution_count": 11,
   "id": "22367eaa-1218-42c5-91c2-6b80e7bd1e1e",
   "metadata": {},
   "outputs": [
    {
     "name": "stdout",
     "output_type": "stream",
     "text": [
      "The area of reftraingle:-  4368.0\n"
     ]
    }
   ],
   "source": [
    "print(\"The area of reftraingle:- \",area)"
   ]
  },
  {
   "cell_type": "code",
   "execution_count": 12,
   "id": "50bd9e98-ada0-4b70-94b1-f1ee31d81819",
   "metadata": {},
   "outputs": [],
   "source": [
    "#question three [ celsius to fahrenheit ] "
   ]
  },
  {
   "cell_type": "code",
   "execution_count": 14,
   "id": "f0004f79-3bde-4f10-aa4d-60e91714c04a",
   "metadata": {},
   "outputs": [
    {
     "name": "stdin",
     "output_type": "stream",
     "text": [
      "enter the temprature in celsius:-  77\n"
     ]
    }
   ],
   "source": [
    "celsius= float(input(\"enter the temprature in celsius:- \"))"
   ]
  },
  {
   "cell_type": "code",
   "execution_count": 15,
   "id": "fac862eb-21b7-44f1-af7d-1f749f9ca6ed",
   "metadata": {},
   "outputs": [],
   "source": [
    "fahrenheit = ( celsius * 9/5) +32"
   ]
  },
  {
   "cell_type": "code",
   "execution_count": 16,
   "id": "e1f593ce-e19c-4ee1-8eb9-28e7778c13e7",
   "metadata": {},
   "outputs": [
    {
     "name": "stdout",
     "output_type": "stream",
     "text": [
      "The temprature in Fahrenheit:-  170.6\n"
     ]
    }
   ],
   "source": [
    "print(\"The temprature in Fahrenheit:- \",fahrenheit)"
   ]
  },
  {
   "cell_type": "code",
   "execution_count": 17,
   "id": "ae2f2e28-642f-49a9-94cd-402ddf9fecee",
   "metadata": {},
   "outputs": [],
   "source": [
    "#string [ question one  ]"
   ]
  },
  {
   "cell_type": "code",
   "execution_count": 18,
   "id": "be1f33df-2986-4580-8794-53af5a33a116",
   "metadata": {},
   "outputs": [
    {
     "name": "stdin",
     "output_type": "stream",
     "text": [
      "Enter the string value:-  shivam\n"
     ]
    }
   ],
   "source": [
    "name = input(\"Enter the string value:- \")"
   ]
  },
  {
   "cell_type": "code",
   "execution_count": 19,
   "id": "ca996952-0f8c-4785-bf4f-9195ccf92ff3",
   "metadata": {},
   "outputs": [],
   "source": [
    "lengthOfString= len(name)"
   ]
  },
  {
   "cell_type": "code",
   "execution_count": 20,
   "id": "c0291caf-577f-4682-87a5-2993ceadb6f2",
   "metadata": {},
   "outputs": [
    {
     "name": "stdout",
     "output_type": "stream",
     "text": [
      "length of entered string :-  6\n"
     ]
    }
   ],
   "source": [
    "print(\"length of entered string :- \",lengthOfString)"
   ]
  },
  {
   "cell_type": "code",
   "execution_count": 21,
   "id": "2342b206-3e75-48a5-bc5c-cfdf09a6e616",
   "metadata": {},
   "outputs": [],
   "source": [
    "#string [ Question two  ]"
   ]
  },
  {
   "cell_type": "code",
   "execution_count": 22,
   "id": "6ef6c4ce-da5c-42a4-a1c4-881605485852",
   "metadata": {},
   "outputs": [
    {
     "name": "stdin",
     "output_type": "stream",
     "text": [
      "Enter the sentence for find vowel letters in the sentence:- learn paython languge with pwskilld\n"
     ]
    }
   ],
   "source": [
    "sentence= input(\"Enter the sentence for find vowel letters in the sentence:-\")"
   ]
  },
  {
   "cell_type": "code",
   "execution_count": 23,
   "id": "4d9cc960-be8d-4514-a9a8-1e0b6eeb9c6f",
   "metadata": {},
   "outputs": [],
   "source": [
    "lowerCase= sentence.lower()"
   ]
  },
  {
   "cell_type": "code",
   "execution_count": 24,
   "id": "da54d5bd-cb67-41a9-8ea6-56ba6888088c",
   "metadata": {},
   "outputs": [],
   "source": [
    "vowelCount = 0"
   ]
  },
  {
   "cell_type": "code",
   "execution_count": 25,
   "id": "b973e7aa-35cf-49ae-9abd-61cdd791b9d2",
   "metadata": {},
   "outputs": [],
   "source": [
    "for char in lowerCase:\n",
    "      if char in \"aeiou\":\n",
    "        vowelCount +=1"
   ]
  },
  {
   "cell_type": "code",
   "execution_count": 26,
   "id": "2fe39441-d471-40e2-b11f-d5695de27611",
   "metadata": {},
   "outputs": [
    {
     "name": "stdout",
     "output_type": "stream",
     "text": [
      "Number of vowels in the entered sentence :-  9\n"
     ]
    }
   ],
   "source": [
    "print(\"Number of vowels in the entered sentence :- \",vowelCount)"
   ]
  },
  {
   "cell_type": "code",
   "execution_count": 27,
   "id": "d5ffbb85-4443-466a-a01e-22b4bc8ec1cd",
   "metadata": {},
   "outputs": [],
   "source": [
    "#string [ Question three ]"
   ]
  },
  {
   "cell_type": "code",
   "execution_count": 28,
   "id": "b2f24812-cf92-4107-b9d7-d6844f7bdb82",
   "metadata": {},
   "outputs": [
    {
     "name": "stdin",
     "output_type": "stream",
     "text": [
      "Enter the string :-  recycle\n"
     ]
    }
   ],
   "source": [
    "word= input(\"Enter the string :- \")"
   ]
  },
  {
   "cell_type": "code",
   "execution_count": 29,
   "id": "0ca7d4ed-5c92-49b5-adf9-69df31d1e599",
   "metadata": {},
   "outputs": [],
   "source": [
    "reversedOrder= word[::-1]"
   ]
  },
  {
   "cell_type": "code",
   "execution_count": 30,
   "id": "5d138ec3-28af-45f4-b86f-550f910676d8",
   "metadata": {},
   "outputs": [
    {
     "name": "stdout",
     "output_type": "stream",
     "text": [
      " the entered string in the reversed order:-  elcycer\n"
     ]
    }
   ],
   "source": [
    "print(\" the entered string in the reversed order:- \",reversedOrder)"
   ]
  },
  {
   "cell_type": "code",
   "execution_count": null,
   "id": "7093f0fe-d874-4b55-8bd3-1ffd61b20be5",
   "metadata": {},
   "outputs": [],
   "source": [
    "#String [ Question four ] "
   ]
  },
  {
   "cell_type": "code",
   "execution_count": 1,
   "id": "529a0ed1-e3d2-4527-a711-d113c9fd13e2",
   "metadata": {},
   "outputs": [
    {
     "name": "stdin",
     "output_type": "stream",
     "text": [
      "enter the string for check palindrone:-  Malyalam\n"
     ]
    }
   ],
   "source": [
    "pword=input(\"enter the string for check palindrone:- \") "
   ]
  },
  {
   "cell_type": "code",
   "execution_count": 2,
   "id": "678cd40d-1723-4200-89c4-a8ce23a81675",
   "metadata": {},
   "outputs": [],
   "source": [
    "rightInput= pword.replace(\" \",\"\").lower()"
   ]
  },
  {
   "cell_type": "code",
   "execution_count": 3,
   "id": "b3dc3256-dc5b-4f50-835a-d60efc077327",
   "metadata": {},
   "outputs": [
    {
     "name": "stdout",
     "output_type": "stream",
     "text": [
      " sorry bhupendra yogi your entered word is not palindrone....\n"
     ]
    }
   ],
   "source": [
    "if  rightInput == rightInput[::-1] :\n",
    "    print(\" your Entered string is palindrone..\")\n",
    "else:\n",
    "    print(\" sorry bhupendra yogi your entered word is not palindrone....\")"
   ]
  },
  {
   "cell_type": "code",
   "execution_count": 21,
   "id": "4c95fa68-70e0-4099-8640-5ab41987da98",
   "metadata": {},
   "outputs": [],
   "source": [
    "#String [ Question five ]"
   ]
  },
  {
   "cell_type": "code",
   "execution_count": 22,
   "id": "4aa48fb1-08d4-41be-b779-fa45515c1328",
   "metadata": {},
   "outputs": [
    {
     "name": "stdin",
     "output_type": "stream",
     "text": [
      "enter the string:-  shivam kumar\n"
     ]
    }
   ],
   "source": [
    "user = input(\"enter the string:- \") "
   ]
  },
  {
   "cell_type": "code",
   "execution_count": 23,
   "id": "ac4f4896-a1bf-4b40-9fed-fc5d0d81c489",
   "metadata": {},
   "outputs": [],
   "source": [
    "rightString= user.replace(\" \",\"\")"
   ]
  },
  {
   "cell_type": "code",
   "execution_count": 24,
   "id": "6f5711c1-b18c-42b6-82be-b32e863071a4",
   "metadata": {},
   "outputs": [
    {
     "name": "stdout",
     "output_type": "stream",
     "text": [
      "Modified string without space:-  shivamkumar\n"
     ]
    }
   ],
   "source": [
    "print(\"Modified string without space:- \",rightString)"
   ]
  },
  {
   "cell_type": "code",
   "execution_count": null,
   "id": "cd97e93b-e415-4ebf-8b9b-159c3e53ddae",
   "metadata": {},
   "outputs": [],
   "source": [
    "# Thank you pwskills family for given beautiful As"
   ]
  }
 ],
 "metadata": {
  "kernelspec": {
   "display_name": "Python 3 (ipykernel)",
   "language": "python",
   "name": "python3"
  },
  "language_info": {
   "codemirror_mode": {
    "name": "ipython",
    "version": 3
   },
   "file_extension": ".py",
   "mimetype": "text/x-python",
   "name": "python",
   "nbconvert_exporter": "python",
   "pygments_lexer": "ipython3",
   "version": "3.10.8"
  }
 },
 "nbformat": 4,
 "nbformat_minor": 5
}
